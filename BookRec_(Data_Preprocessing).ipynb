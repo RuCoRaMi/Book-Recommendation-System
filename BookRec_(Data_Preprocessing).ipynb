{
  "nbformat": 4,
  "nbformat_minor": 0,
  "metadata": {
    "colab": {
      "provenance": [],
      "authorship_tag": "ABX9TyPjoa+d1YMjPewfKh5TkSW5",
      "include_colab_link": true
    },
    "kernelspec": {
      "name": "python3",
      "display_name": "Python 3"
    },
    "language_info": {
      "name": "python"
    }
  },
  "cells": [
    {
      "cell_type": "markdown",
      "metadata": {
        "id": "view-in-github",
        "colab_type": "text"
      },
      "source": [
        "<a href=\"https://colab.research.google.com/github/RuCoRaMi/Book-Recommendation-System/blob/main/BookRec_(Data_Preprocessing).ipynb\" target=\"_parent\"><img src=\"https://colab.research.google.com/assets/colab-badge.svg\" alt=\"Open In Colab\"/></a>"
      ]
    },
    {
      "cell_type": "code",
      "source": [
        "!pip install kaggle"
      ],
      "metadata": {
        "id": "HxadAq-LxTgh"
      },
      "execution_count": 2,
      "outputs": []
    },
    {
      "cell_type": "code",
      "source": [
        "!mkdir ~/.kaggle"
      ],
      "metadata": {
        "id": "7MfSNnAXyRRN",
        "colab": {
          "base_uri": "https://localhost:8080/"
        },
        "outputId": "653417a6-39d7-41f7-ceab-7d1c88faa0af"
      },
      "execution_count": 4,
      "outputs": [
        {
          "output_type": "stream",
          "name": "stdout",
          "text": [
            "mkdir: cannot create directory ‘/root/.kaggle’: File exists\n"
          ]
        }
      ]
    },
    {
      "cell_type": "code",
      "source": [
        "!cp kaggle.json ~/.kaggle/\n"
      ],
      "metadata": {
        "id": "MWr7oxM7ybDL"
      },
      "execution_count": 5,
      "outputs": []
    },
    {
      "cell_type": "code",
      "source": [
        "!chmod 600 ~/.kaggle/kaggle.json\n"
      ],
      "metadata": {
        "id": "HQfQL-cZyfhq"
      },
      "execution_count": 6,
      "outputs": []
    },
    {
      "cell_type": "code",
      "source": [
        "!kaggle datasets download zygmunt/goodbooks-10k"
      ],
      "metadata": {
        "id": "gAtWJLqbyqgi",
        "colab": {
          "base_uri": "https://localhost:8080/"
        },
        "outputId": "6daa9042-1816-4a43-dc7c-9e2ff4fd33eb"
      },
      "execution_count": 7,
      "outputs": [
        {
          "output_type": "stream",
          "name": "stdout",
          "text": [
            "Downloading goodbooks-10k.zip to /content\n",
            " 78% 9.00M/11.6M [00:00<00:00, 40.0MB/s]\n",
            "100% 11.6M/11.6M [00:00<00:00, 48.7MB/s]\n"
          ]
        }
      ]
    },
    {
      "cell_type": "code",
      "source": [
        "!unzip goodbooks-10k.zip"
      ],
      "metadata": {
        "id": "SkiRx07A0Bra"
      },
      "execution_count": null,
      "outputs": []
    },
    {
      "cell_type": "code",
      "execution_count": 10,
      "metadata": {
        "id": "0GPxnXxitQci"
      },
      "outputs": [],
      "source": [
        "import numpy as np\n",
        "import pandas as pd\n",
        "import matplotlib.pyplot as plt\n",
        "import seaborn as sns\n",
        "import os\n",
        "import warnings\n",
        "\n",
        "warnings.filterwarnings('ignore')\n",
        "sns.set()"
      ]
    },
    {
      "cell_type": "code",
      "source": [
        "books = pd.read_csv('books.csv')\n",
        "ratings = pd.read_csv('ratings.csv')"
      ],
      "metadata": {
        "id": "uhos7c8eEPqO"
      },
      "execution_count": 18,
      "outputs": []
    },
    {
      "cell_type": "code",
      "source": [
        "books.columns"
      ],
      "metadata": {
        "colab": {
          "base_uri": "https://localhost:8080/"
        },
        "id": "Ohrcb8w-Efh2",
        "outputId": "2f75c5b5-2a08-48aa-92d8-191ae9d07804"
      },
      "execution_count": 19,
      "outputs": [
        {
          "output_type": "execute_result",
          "data": {
            "text/plain": [
              "Index(['id', 'book_id', 'best_book_id', 'work_id', 'books_count', 'isbn',\n",
              "       'isbn13', 'authors', 'original_publication_year', 'original_title',\n",
              "       'title', 'language_code', 'average_rating', 'ratings_count',\n",
              "       'work_ratings_count', 'work_text_reviews_count', 'ratings_1',\n",
              "       'ratings_2', 'ratings_3', 'ratings_4', 'ratings_5', 'image_url',\n",
              "       'small_image_url'],\n",
              "      dtype='object')"
            ]
          },
          "metadata": {},
          "execution_count": 19
        }
      ]
    },
    {
      "cell_type": "code",
      "source": [
        "#grab only relevant features\n",
        "columns = ['id', 'book_id', 'isbn', 'authors', 'original_publication_year', 'title', 'average_rating',\n",
        "           'ratings_count', 'small_image_url']\n",
        "\n",
        "books_new = books[columns]\n",
        "\n",
        "books_new.head()"
      ],
      "metadata": {
        "id": "1IEhcJsjElCR"
      },
      "execution_count": null,
      "outputs": []
    },
    {
      "cell_type": "code",
      "source": [
        "books_new.info()"
      ],
      "metadata": {
        "colab": {
          "base_uri": "https://localhost:8080/"
        },
        "id": "Oe1LEor5EwAC",
        "outputId": "2d3a7035-1c65-424d-aff1-37b92d0844f1"
      },
      "execution_count": 22,
      "outputs": [
        {
          "output_type": "stream",
          "name": "stdout",
          "text": [
            "<class 'pandas.core.frame.DataFrame'>\n",
            "RangeIndex: 10000 entries, 0 to 9999\n",
            "Data columns (total 9 columns):\n",
            " #   Column                     Non-Null Count  Dtype  \n",
            "---  ------                     --------------  -----  \n",
            " 0   id                         10000 non-null  int64  \n",
            " 1   book_id                    10000 non-null  int64  \n",
            " 2   isbn                       9300 non-null   object \n",
            " 3   authors                    10000 non-null  object \n",
            " 4   original_publication_year  9979 non-null   float64\n",
            " 5   title                      10000 non-null  object \n",
            " 6   average_rating             10000 non-null  float64\n",
            " 7   ratings_count              10000 non-null  int64  \n",
            " 8   small_image_url            10000 non-null  object \n",
            "dtypes: float64(2), int64(3), object(4)\n",
            "memory usage: 703.2+ KB\n"
          ]
        }
      ]
    },
    {
      "cell_type": "code",
      "source": [
        "#checking books null value\n",
        "\n",
        "books_new.isna().sum()"
      ],
      "metadata": {
        "id": "_8yR8nRIE4ZT"
      },
      "execution_count": null,
      "outputs": []
    },
    {
      "cell_type": "code",
      "source": [
        "#filling null with NA\n",
        "books_new = books_new.fillna('NA')\n",
        "books_new.info()"
      ],
      "metadata": {
        "id": "pCnND6kpFGy7"
      },
      "execution_count": null,
      "outputs": []
    },
    {
      "cell_type": "code",
      "source": [
        "ratings.isna().sum()"
      ],
      "metadata": {
        "id": "Yq9QBVmbFWVl"
      },
      "execution_count": null,
      "outputs": []
    },
    {
      "cell_type": "code",
      "source": [
        "books_new.to_csv('books_cleaned.csv')"
      ],
      "metadata": {
        "id": "izvPNdEHFd5W"
      },
      "execution_count": 26,
      "outputs": []
    }
  ]
}